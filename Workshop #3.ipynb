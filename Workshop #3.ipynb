{
 "cells": [
  {
   "cell_type": "markdown",
   "id": "57dda1cf-634c-4db2-ba37-44e8b2769e2b",
   "metadata": {},
   "source": [
    "# Tasks"
   ]
  },
  {
   "cell_type": "markdown",
   "id": "bfcedab2-db23-4ab1-8e91-329f4388605e",
   "metadata": {},
   "source": [
    "## P 3.1: Download the CarSharing dataset from Canvas and apply the normal linear regression and the Ridge regression methods to predict the 'demand' column. Use 5 different values for the regularisation parameter in the Ridge regression and repeat the prediction. Calculate all evaluation metrics discussed in the lecture session for both models and all repetitions and print them. Interpret the results and report your interpretation in the report cell (completing the report cell is required) (15%)"
   ]
  },
  {
   "cell_type": "code",
   "execution_count": null,
   "id": "d5627b0a-da2e-4873-a6f8-06af96167057",
   "metadata": {},
   "outputs": [],
   "source": [
    "############# WRITE YOUR CODE IN THIS CELL (IF APPLICABLE)  ####################\n",
    "\n",
    "\n"
   ]
  },
  {
   "cell_type": "raw",
   "id": "41d8711b-390d-472d-91fa-1044a199f321",
   "metadata": {},
   "source": [
    "############ WRITE YOUR REPORT IN THIS CELL (IF APPLICABLE) #############\n",
    "\n",
    "\n"
   ]
  }
 ],
 "metadata": {
  "kernelspec": {
   "display_name": "Python 3 (ipykernel)",
   "language": "python",
   "name": "python3"
  },
  "language_info": {
   "codemirror_mode": {
    "name": "ipython",
    "version": 3
   },
   "file_extension": ".py",
   "mimetype": "text/x-python",
   "name": "python",
   "nbconvert_exporter": "python",
   "pygments_lexer": "ipython3",
   "version": "3.11.5"
  }
 },
 "nbformat": 4,
 "nbformat_minor": 5
}
